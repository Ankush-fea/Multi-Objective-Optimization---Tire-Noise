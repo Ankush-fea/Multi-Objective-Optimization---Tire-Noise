{
 "cells": [
  {
   "cell_type": "markdown",
   "metadata": {},
   "source": [
    "# Importing Libraries"
   ]
  },
  {
   "cell_type": "code",
   "execution_count": null,
   "metadata": {},
   "outputs": [],
   "source": [
    "from cmath import isclose, pi\n",
    "from typing import final\n",
    "import numpy as np\n",
    "from random import choices, shuffle\n",
    "import random\n",
    "import itertools\n",
    "import math\n",
    "import pandas as pd"
   ]
  },
  {
   "cell_type": "markdown",
   "metadata": {},
   "source": [
    "# Create the following\n",
    "1. No. of pitch type.\n",
    "2. Length of each pitch type.\n",
    "3. No. of each pitch type."
   ]
  },
  {
   "cell_type": "code",
   "execution_count": null,
   "metadata": {},
   "outputs": [
    {
     "name": "stdout",
     "output_type": "stream",
     "text": [
      "[43, 43, 43, 43, 43, 43, 43, 43, 43, 43, 43, 43, 43, 43, 43, 43, 43, 43] \n",
      "\n",
      "[45, 45, 45, 45, 45, 45, 45, 45, 45, 45, 45, 45, 45, 45, 45, 45, 45, 45, 45, 45, 45, 45, 45, 45, 45] \n",
      "\n",
      "[48.3, 48.3, 48.3, 48.3, 48.3, 48.3, 48.3, 48.3, 48.3, 48.3, 48.3, 48.3, 48.3, 48.3, 48.3, 48.3, 48.3, 48.3, 48.3, 48.3, 48.3, 48.3, 48.3, 48.3, 48.3, 48.3, 48.3, 48.3, 48.3]\n"
     ]
    }
   ],
   "source": [
    "# Here we are taking example of 'Three' pitch type.\n",
    "## Enter first pitch length\n",
    "Pl_1 = 43\n",
    "No_Pl_1 = 18 \n",
    "## Enter first pitch length\n",
    "Pl_2 = 45\n",
    "No_Pl_2 = 25\n",
    "## Enter first pitch length\n",
    "Pl_3 = 48.3\n",
    "No_Pl_3 = 29 \n",
    "\n",
    "# Enter tire circumference\n",
    "Tire_Circumferenece = 3299.7\n",
    "\n",
    "# Enter total no. of pitch\n",
    "Total_no_of_pitches = 72\n",
    "\n",
    "# Tyre velocity is 80 kmph\n",
    "Velocity = 80\n",
    "###################################################\n",
    "\n",
    "P1 = [Pl_1]*18\n",
    "P2 = [Pl_2]*25\n",
    "P3 = [Pl_3]*29\n",
    "print(P1, '\\n')\n",
    "print(P2,'\\n')\n",
    "print(P3)"
   ]
  },
  {
   "cell_type": "markdown",
   "metadata": {},
   "source": [
    "# Intializing population"
   ]
  },
  {
   "cell_type": "code",
   "execution_count": null,
   "metadata": {},
   "outputs": [
    {
     "name": "stdout",
     "output_type": "stream",
     "text": [
      "[45, 43, 45, 48.3, 45, 48.3, 45, 48.3, 43, 43, 43, 45, 45, 43, 45, 43, 48.3, 45, 45, 45, 48.3, 45, 43, 43, 43, 48.3, 43, 45, 45, 48.3, 43, 43, 48.3, 48.3, 48.3, 45, 48.3, 48.3, 48.3, 48.3, 45, 48.3, 45, 48.3, 45, 48.3, 48.3, 45, 48.3, 43, 48.3, 48.3, 48.3, 45, 45, 45, 48.3, 48.3, 48.3, 45, 45, 48.3, 48.3, 45, 43, 45, 48.3, 43, 43, 43, 43, 48.3] \n",
      "\n",
      "[48.3, 43, 43, 48.3, 43, 48.3, 45, 45, 45, 48.3, 45, 45, 48.3, 48.3, 45, 45, 48.3, 45, 48.3, 43, 45, 45, 48.3, 48.3, 45, 48.3, 48.3, 45, 48.3, 43, 43, 45, 43, 45, 43, 45, 45, 48.3, 45, 45, 48.3, 48.3, 43, 48.3, 43, 48.3, 48.3, 48.3, 43, 45, 43, 43, 48.3, 48.3, 48.3, 45, 43, 48.3, 43, 48.3, 48.3, 48.3, 48.3, 43, 48.3, 43, 45, 45, 45, 45, 43, 45] \n",
      "\n",
      "[45, 45, 45, 48.3, 48.3, 43, 43, 45, 45, 43, 45, 45, 48.3, 48.3, 48.3, 48.3, 45, 45, 48.3, 48.3, 43, 45, 45, 45, 43, 48.3, 45, 43, 45, 45, 48.3, 45, 48.3, 48.3, 43, 43, 48.3, 48.3, 48.3, 45, 48.3, 43, 43, 43, 45, 43, 48.3, 45, 48.3, 43, 48.3, 43, 48.3, 48.3, 48.3, 45, 45, 43, 48.3, 45, 43, 43, 43, 48.3, 45, 48.3, 48.3, 48.3, 48.3, 48.3, 45, 45] \n",
      "\n",
      "[48.3, 43, 45, 48.3, 43, 48.3, 48.3, 43, 45, 48.3, 48.3, 43, 48.3, 45, 48.3, 43, 48.3, 48.3, 48.3, 48.3, 48.3, 45, 45, 48.3, 48.3, 45, 43, 45, 45, 45, 45, 45, 45, 48.3, 45, 43, 43, 45, 45, 48.3, 45, 48.3, 45, 45, 43, 43, 45, 48.3, 43, 48.3, 45, 48.3, 45, 45, 43, 48.3, 43, 43, 43, 48.3, 45, 43, 48.3, 48.3, 48.3, 45, 43, 45, 48.3, 43, 48.3, 48.3] \n",
      "\n",
      "[[45, 43, 45, 48.3, 45, 48.3, 45, 48.3, 43, 43, 43, 45, 45, 43, 45, 43, 48.3, 45, 45, 45, 48.3, 45, 43, 43, 43, 48.3, 43, 45, 45, 48.3, 43, 43, 48.3, 48.3, 48.3, 45, 48.3, 48.3, 48.3, 48.3, 45, 48.3, 45, 48.3, 45, 48.3, 48.3, 45, 48.3, 43, 48.3, 48.3, 48.3, 45, 45, 45, 48.3, 48.3, 48.3, 45, 45, 48.3, 48.3, 45, 43, 45, 48.3, 43, 43, 43, 43, 48.3], [48.3, 43, 43, 48.3, 43, 48.3, 45, 45, 45, 48.3, 45, 45, 48.3, 48.3, 45, 45, 48.3, 45, 48.3, 43, 45, 45, 48.3, 48.3, 45, 48.3, 48.3, 45, 48.3, 43, 43, 45, 43, 45, 43, 45, 45, 48.3, 45, 45, 48.3, 48.3, 43, 48.3, 43, 48.3, 48.3, 48.3, 43, 45, 43, 43, 48.3, 48.3, 48.3, 45, 43, 48.3, 43, 48.3, 48.3, 48.3, 48.3, 43, 48.3, 43, 45, 45, 45, 45, 43, 45], [45, 45, 45, 48.3, 48.3, 43, 43, 45, 45, 43, 45, 45, 48.3, 48.3, 48.3, 48.3, 45, 45, 48.3, 48.3, 43, 45, 45, 45, 43, 48.3, 45, 43, 45, 45, 48.3, 45, 48.3, 48.3, 43, 43, 48.3, 48.3, 48.3, 45, 48.3, 43, 43, 43, 45, 43, 48.3, 45, 48.3, 43, 48.3, 43, 48.3, 48.3, 48.3, 45, 45, 43, 48.3, 45, 43, 43, 43, 48.3, 45, 48.3, 48.3, 48.3, 48.3, 48.3, 45, 45], [48.3, 43, 45, 48.3, 43, 48.3, 48.3, 43, 45, 48.3, 48.3, 43, 48.3, 45, 48.3, 43, 48.3, 48.3, 48.3, 48.3, 48.3, 45, 45, 48.3, 48.3, 45, 43, 45, 45, 45, 45, 45, 45, 48.3, 45, 43, 43, 45, 45, 48.3, 45, 48.3, 45, 45, 43, 43, 45, 48.3, 43, 48.3, 45, 48.3, 45, 45, 43, 48.3, 43, 43, 43, 48.3, 45, 43, 48.3, 48.3, 48.3, 45, 43, 45, 48.3, 43, 48.3, 48.3]]\n"
     ]
    }
   ],
   "source": [
    "# Enter pitch arrangement of multi pitch.\n",
    "Arrange_1 = P1+P2+P3\n",
    "Arrange_2 = P2+P1+P3\n",
    "Arrange_3 = P3+P2+P1\n",
    "Arrange_4 = P3+P1+P2\n",
    "\n",
    "# Shuffle the arrangement.\n",
    "random.shuffle(Arrange_1)\n",
    "random.shuffle(Arrange_2)\n",
    "random.shuffle(Arrange_3)\n",
    "random.shuffle(Arrange_4)\n",
    "\n",
    "# Printing the arrangement.\n",
    "print(Arrange_1, '\\n')\n",
    "print(Arrange_2, '\\n')\n",
    "print(Arrange_3, '\\n')\n",
    "print(Arrange_4, '\\n')\n",
    "\n",
    "# Arranged\n",
    "Arranged = [Arrange_1, Arrange_2, Arrange_3, Arrange_4]\n",
    "print(Arranged)"
   ]
  },
  {
   "cell_type": "code",
   "execution_count": null,
   "metadata": {},
   "outputs": [
    {
     "name": "stdout",
     "output_type": "stream",
     "text": [
      "3299.7000000000016\n",
      "[48.3, 43, 45, 48.3, 43, 48.3, 48.3, 43, 45, 48.3, 48.3, 43, 48.3, 45, 48.3, 43, 48.3, 48.3, 48.3, 48.3, 48.3, 45, 45, 48.3, 48.3, 45, 43, 45, 45, 45, 45, 45, 45, 48.3, 45, 43, 43, 45, 45, 48.3, 45, 48.3, 45, 45, 43, 43, 45, 48.3, 43, 48.3, 45, 48.3, 45, 45, 43, 48.3, 43, 43, 43, 48.3, 45, 43, 48.3, 48.3, 48.3, 45, 43, 45, 48.3, 43, 48.3, 48.3]\n",
      "[45.  45.  48.3 45.  45.  43.  48.3 43.  48.3 43.  48.3 45.  43.  48.3\n",
      " 43.  48.3 45.  48.3 45.  45.  43.  43.  48.3 48.3 45.  48.3 45.  48.3\n",
      " 43.  45.  48.3 48.3 48.3 43.  48.3 43.  48.3 48.3 45.  43.  45.  45.\n",
      " 48.3 43.  45.  43.  45.  45.  43.  43.  48.3 45.  48.3 43.  48.3 45.\n",
      " 48.3 48.3 48.3 48.3 48.3 45.  48.3 45.  45.  48.3 48.3 45.  43.  45.\n",
      " 43.  45. ]\n"
     ]
    },
    {
     "data": {
      "text/plain": [
       "4"
      ]
     },
     "execution_count": 162,
     "metadata": {},
     "output_type": "execute_result"
    }
   ],
   "source": [
    "# Checking randomly any arrangment\n",
    "print(sum(Arrange_2))\n",
    "print(Arranged[3])\n",
    "z = np.random.permutation(Arranged[1])\n",
    "print(z)\n",
    "len(Arranged)"
   ]
  },
  {
   "cell_type": "code",
   "execution_count": null,
   "metadata": {},
   "outputs": [],
   "source": [
    "# Initializing inital population with constraint\n",
    "def initial_population(X):\n",
    "    Store_pitch_seq = [] # It will store the generated or modified pitch sequence.\n",
    "    seq_no = 0 # It states which sequence we want from arranged list. Default is kept at zero.\n",
    "    for seq_no in range(len(X)):\n",
    "        if seq_no == 0:\n",
    "            for j in range(3):\n",
    "                permute = np.random.permutation(X[0])\n",
    "                Store_pitch_seq.append(permute)\n",
    "        elif seq_no == 1:\n",
    "            for j in range(3):\n",
    "                permute = np.random.permutation(X[1])\n",
    "                Store_pitch_seq.append(permute)\n",
    "        elif seq_no == 2:\n",
    "            for j in range(3):\n",
    "                permute = np.random.permutation(X[2])\n",
    "                Store_pitch_seq.append(permute)\n",
    "        elif seq_no == 3:\n",
    "            for j in range(3):\n",
    "                permute = np.random.permutation(X[3])\n",
    "                Store_pitch_seq.append(permute)        \n",
    "    return Store_pitch_seq\n",
    "#---------------------------------------------------------------------------\n",
    "#New_Population = initial_population(Arranged)  \n",
    "#DF_New_population = pd.DataFrame(New_Population)  \n",
    "#---------------------------------------------------------------------------"
   ]
  },
  {
   "cell_type": "markdown",
   "metadata": {},
   "source": [
    "# Objective Function"
   ]
  },
  {
   "cell_type": "code",
   "execution_count": null,
   "metadata": {},
   "outputs": [],
   "source": [
    "# Objective function calculation\n",
    "def objective_function(pitch_seq, total_seq, no_of_pitch):\n",
    "    #---------------------------------------------------------------------\n",
    "    ## First we will find the time of each tread block hitting the surface.\n",
    "    Ti = np.array([])   #Empty array for time of hitting tread block.\n",
    "    for i in pitch_seq:     # i represent the i pitch sequence in the population.\n",
    "        t = 0   # t is the time of hitting the block to the road surface.\n",
    "        for j in i:     # i represent the ith pitch in the pitch sequence.\n",
    "            ti =  t/Velocity\n",
    "            Ti = np.append(Ti, ti)\n",
    "            t = t+j\n",
    "    Ti = np.reshape(Ti, (total_seq,no_of_pitch)) # This will give time of hitting of each block in sequence, It is 2D array.\n",
    "    #---------------------------------------------------------------------\n",
    "    ## Find the n harmonic\n",
    "    N_harmonic = np.array([]) #Empty array for n harmonic\n",
    "    for j in Ti:\n",
    "        for n_har in range(1,200):\n",
    "            N_harmonic = np.append(N_harmonic, np.multiply(n_har,j))\n",
    "    N_harmonic = np.reshape(N_harmonic, (total_seq, no_of_pitch, n_har)) # This will  give harmonic of each sequence, It is 3D array.\n",
    "    #print(Yn)    \n",
    "    #---------------------------------------------------------------------\n",
    "    # An, Bn & Cn  harmonic summation\n",
    "    An_harmonic = np.array([])\n",
    "    Bn_harmonic = np.array([])\n",
    "    Cn = np.array([])\n",
    "    for seq in N_harmonic:\n",
    "            for val in seq:\n",
    "                An = np.cos(2*math.pi*val)\n",
    "                An_harmonic = np.append(An_harmonic, An)\n",
    "                Bn = np.sin(2*math.pi*val)\n",
    "                Bn_harmonic = np.append(Bn_harmonic, Bn)\n",
    "    An_harmonic = np.reshape(An_harmonic, (total_seq, no_of_pitch, n_har))\n",
    "    Bn_harmonic = np.reshape(Bn_harmonic, (total_seq, no_of_pitch, n_har))\n",
    "    An_harmonic = np.square(2*np.sum(An_harmonic, axis =1)) # This sums the An value in a pitch sequence\n",
    "    Bn_harmonic = np.square(2*np.sum(Bn_harmonic, axis =1)) # This sums the Bn value in a pitch sequence\n",
    "    Cn = np.sqrt(An_harmonic+Bn_harmonic) \n",
    "    # This is objective output it is 2D array in which rows represent sequence value and coloum represent harmonic value\n",
    "    ###print(An_harmonic, '\\n' ,Bn_harmonic, '\\n', Cn)    \n",
    "    return Cn\n",
    "#---------------------------------------------------------------------------    \n",
    "#Result = objective_function(New_Population, int(len(New_Population)), Total_no_of_pitches)\n",
    "#DF_Result = pd.DataFrame(Result)\n",
    "#---------------------------------------------------------------------------"
   ]
  },
  {
   "cell_type": "markdown",
   "metadata": {},
   "source": [
    "# Selection"
   ]
  },
  {
   "cell_type": "code",
   "execution_count": null,
   "metadata": {},
   "outputs": [],
   "source": [
    "# Logic: Find the sequence having maximum Cn and try to minimize it. \n",
    "# Selection function here we will select top 6 best solution\n",
    "def selection(result, new_pop):\n",
    "    \n",
    "    unknown = -999999 # Choosing a highly negative value.\n",
    "    unk_lst = [] # This list contains the maximum Cn of each sequence.\n",
    "    initial_selection = [] # This list contains the initial selection with there sequence no.\n",
    "    population_index = [] # This list will contain the sequence no.\n",
    "    selected_val_id = [] # This list takes the fittest solution as per our need.\n",
    "    #selected_population_index = [] # This list contains sequnce no of fittest solution\n",
    "    #---------------------------------------------------------------------\n",
    "    # Logic: Take maximum value of Cn of every pitch sequence.\n",
    "    Kn = result.tolist() # Converting result array to list.\n",
    "    for i in Kn:\n",
    "        unknown = max(i)\n",
    "        unk_lst.append(unknown) \n",
    "    #---------------------------------------------------------------------\n",
    "    # Logic: Take value of unknown list having its sequence no.\n",
    "    for i in range(len(unk_lst)):\n",
    "        initial_selection.append([unk_lst[i], i])\n",
    "    initial_selection.sort() # It will sort according to first element in list of list.\n",
    "    \n",
    "    for x in initial_selection:\n",
    "        population_index.append(x[1])\n",
    "    #---------------------------------------------------------------------\n",
    "    # Logic: Take maximum value of Cn of every pitch sequence.\n",
    "    final_select = initial_selection[:6]\n",
    "    for i in final_select:\n",
    "        selected_val_id.append(i)\n",
    "    #---------------------------------------------------------------------\n",
    "    \n",
    "    return selected_val_id\n",
    "#---------------------------------------------------------------------------\n",
    "#Selected_ID = selection(Result, New_Population)\n",
    "#DF_Selected_ID = pd.DataFrame(Selected_ID, columns = ['Max_Cn', \"Sequence_No\"])\n",
    "#---------------------------------------------------------------------------"
   ]
  },
  {
   "cell_type": "code",
   "execution_count": null,
   "metadata": {},
   "outputs": [],
   "source": [
    "# Selecting sequence after initial population\n",
    "#----------------------------------------------------------------------\n",
    "#Selected_initial_population = DF_New_population.iloc[DF_Selected_ID['Sequence_No']]\n",
    "#Select_population_arr = Selected_initial_population.to_numpy()\n",
    "#print(Selected_initial_population)"
   ]
  },
  {
   "cell_type": "markdown",
   "metadata": {},
   "source": [
    "# Variation\n"
   ]
  },
  {
   "cell_type": "markdown",
   "metadata": {},
   "source": [
    "## Cross_over"
   ]
  },
  {
   "cell_type": "code",
   "execution_count": null,
   "metadata": {},
   "outputs": [],
   "source": [
    "def crossover (final_select, pop_select, no_of_pitch, circumference):\n",
    "    cross_off = [] # It will contain the final off spring after cross over.\n",
    "    Group_cross_1 = [] # It will contain group 1 series from randomly selected population\n",
    "    Group_cross_2 = [] # It will contain group 2 series from randomly selected population\n",
    "    Gr_cross_probability = [] # To randomly assign probability for cross over\n",
    "    \n",
    "    #---------------------------------------------------------------------\n",
    "    # Logic: Making dictionary which is having sequence no & pitch sequence.   \n",
    "    my_dict_cross = {}\n",
    "    for i in range(len(final_select)): \n",
    "        my_dict_cross[final_select[i][1]] = pop_select[i]\n",
    "    #---------------------------------------------------------------------\n",
    "    # Logic: Making two groups by random selection.\n",
    "    for i in range(1,7):\n",
    "        pop_1, pop_2 = random.sample(final_select, 2)\n",
    "        Group_cross_1.append(pop_1)\n",
    "        Group_cross_2.append(pop_2)\n",
    "        rand_no = random.random()\n",
    "        Gr_cross_probability.append(rand_no)\n",
    "    #print(\"Group_1: \",Group_cross_1)\n",
    "    #print(\"Group_2: \",Group_cross_2)\n",
    "    #print(\"Gr_probability: \", Gr_cross_probability)\n",
    "    #---------------------------------------------------------------------\n",
    "    # Logic: After assigning probability to each group check the probability of cross-over.\n",
    "    #        If cross-over satisfies the probability perform the cross over and check the condition where it satisfies the circumference or not.\n",
    "    for i in range(len(Gr_cross_probability)):\n",
    "        if Gr_cross_probability[i] < 0.9:\n",
    "            z = 0\n",
    "            for j in range(1,no_of_pitch-1):\n",
    "                if z == 0:\n",
    "                    Merge_1 = np.concatenate((my_dict_cross[Group_cross_1[i][1]][:j], my_dict_cross[Group_cross_2[i][1]][j:] ), axis = 0)\n",
    "                    Merge_2 = np.concatenate((my_dict_cross[Group_cross_1[i][1]][j:], my_dict_cross[Group_cross_2[i][1]][:j] ), axis = 0)\n",
    "                    if int(sum(Merge_1) and sum(Merge_2) ) == int(circumference):\n",
    "                        cross_off.append(Merge_1)\n",
    "                        cross_off.append(Merge_2)      \n",
    "                        z = z+1              \n",
    "                    else:\n",
    "                        continue\n",
    "                elif 0<z<7:\n",
    "                    Merge_1 = np.concatenate((my_dict_cross[Group_cross_1[i][1]][:j], my_dict_cross[Group_cross_2[i][1]][j:] ), axis = 0)\n",
    "                    Merge_2 = np.concatenate((my_dict_cross[Group_cross_1[i][1]][j:], my_dict_cross[Group_cross_2[i][1]][:j] ), axis = 0)\n",
    "                    if int(sum(Merge_1) and sum(Merge_2) ) == int(circumference):\n",
    "                        cross_off.append(Merge_1)\n",
    "                        cross_off.append(Merge_2)      \n",
    "                        z = z+1              \n",
    "                    else:\n",
    "                        continue\n",
    "                else:\n",
    "                    break\n",
    "        else:\n",
    "            cross_off.append(my_dict_cross[Group_cross_1[i][1]][:])\n",
    "            cross_off.append(my_dict_cross[Group_cross_2[i][1]][:])        \n",
    "    return cross_off\n",
    "\n",
    "#---------------------------------------------------------------------\n",
    "#Cross_off_spring = crossover(Selected_ID, Select_population_arr, Total_no_of_pitches, Tire_Circumferenece)\n",
    "#DF_Cross_off_spring = pd.DataFrame(Cross_off_spring)\n",
    "#DF_Cross_off_spring.drop_duplicates(keep= 'first', ignore_index = True)\n",
    "#DF_Cross_off_arr = DF_Cross_off_spring.to_numpy()\n",
    "#---------------------------------------------------------------------"
   ]
  },
  {
   "cell_type": "markdown",
   "metadata": {},
   "source": [
    "## Mutation"
   ]
  },
  {
   "cell_type": "code",
   "execution_count": null,
   "metadata": {},
   "outputs": [],
   "source": [
    "def swap_pos(lst,a,b):  \n",
    "#using the swapping approach  \n",
    "    lst[a], lst[b] = lst[b], lst[a]  \n",
    "    return lst  "
   ]
  },
  {
   "cell_type": "code",
   "execution_count": null,
   "metadata": {},
   "outputs": [],
   "source": [
    "def mutation ( off_select, no_of_pitch):\n",
    "    mut_off = [] # It will contain the final off spring after mutation.\n",
    "    Gr_mut_probability = [] # To randomly assign probability for mutation\n",
    "    #---------------------------------------------------------------------\n",
    "    # Logic: Making dictionary which is having mutation probability & pitch sequence.   \n",
    "    my_dict_off = {}\n",
    "    dict_swap_id = {}\n",
    "    for i in range(len(off_select)):\n",
    "        rand_no = random.random()\n",
    "        Gr_mut_probability.append(rand_no) \n",
    "    for i in range(len(off_select)): \n",
    "         my_dict_off[Gr_mut_probability[i]] = off_select[i]\n",
    "    #---------------------------------------------------------------------\n",
    "    # Logic: Checking probability probability & performing mutation.\n",
    "    # Applying logic for particular sequence.\n",
    "    for i in range(len(off_select)):\n",
    "        dict_swap_id = {} # It will store every pitch in key (position) value (length) pair.\n",
    "        particular_pitch = my_dict_off[Gr_mut_probability[i]]\n",
    "        for j in range(no_of_pitch):  \n",
    "            dict_swap_id[j] = particular_pitch[j]\n",
    "                    \n",
    "        pm = 2/len(off_select)  # Maximum probability allowed for mutation.\n",
    "        \n",
    "        if Gr_mut_probability[i] < pm:\n",
    "            random_select = random.choices(list(dict_swap_id.keys()), k=2)\n",
    "            while True:\n",
    "                if random_select[0] != random_select[1]:\n",
    "                    mutate = swap_pos(list(dict_swap_id.values()),random_select[0],random_select[1])\n",
    "                    mut_off.append(mutate)\n",
    "                    break\n",
    "                else:\n",
    "                    continue    \n",
    "        else: \n",
    "            mut_off.append(my_dict_off[Gr_mut_probability[i]])\n",
    "    return mut_off\n",
    "#--------------------------------------------------------------------- \n",
    "#Mutate_off_spring = mutation(DF_Cross_off_arr, Total_no_of_pitches)\n",
    "#DF_Mutate_off_spring = pd.DataFrame(Mutate_off_spring)\n",
    "#DF_Mutate_off_spring.drop_duplicates(keep= 'first', ignore_index = True)\n",
    "#DF_Mutate_arr = DF_Mutate_off_spring.to_numpy()\n",
    "#---------------------------------------------------------------------"
   ]
  },
  {
   "cell_type": "markdown",
   "metadata": {},
   "source": [
    "# After Variation"
   ]
  },
  {
   "cell_type": "code",
   "execution_count": null,
   "metadata": {},
   "outputs": [],
   "source": [
    "## Objective function : After variation---------------------------------------------------\n",
    "#Var_Result = objective_function(DF_Mutate_arr, int(len(DF_Mutate_arr)), Total_no_of_pitches)\n",
    "#DF_Var_Result = pd.DataFrame(Var_Result)\n",
    "#\n",
    "## Selection : After variation------------------------------------------------------------\n",
    "#Selected_VarID = selection(Var_Result, DF_Mutate_arr)\n",
    "#DF_Selected_VarID = pd.DataFrame(Selected_VarID, columns = ['Max_Cn', \"Sequence_No\"])\n",
    "#print(DF_Selected_VarID)"
   ]
  },
  {
   "cell_type": "code",
   "execution_count": null,
   "metadata": {},
   "outputs": [],
   "source": [
    "# Selected 'after variation' population pitches-------------------------------------------\n",
    "#Selected_after_variation_population = DF_Mutate_off_spring.iloc[DF_Selected_VarID['Sequence_No']]\n",
    "#print(Selected_after_variation_population)\n",
    "#Select_variation_arr = Selected_after_variation_population.to_numpy()\n",
    "#print(Select_variation_arr)\n",
    "#-----------------------------------------------------------------------------------------\n",
    "#--************************************************************************************--#\n",
    "#-----------------------------------------------------------------------------------------"
   ]
  },
  {
   "cell_type": "code",
   "execution_count": null,
   "metadata": {},
   "outputs": [],
   "source": [
    "#print(Selected_initial_population)\n",
    "#print(Selected_after_variation_population)\n",
    "#print(pd.DataFrame(Select_variation_arr))\n",
    "#Initial_population = pd.concat([Selected_initial_population, Selected_after_variation_population], ignore_index=True)\n",
    "#DF_Initial_population_array = pd.DataFrame(Initial_population_array)\n",
    "#print(Initial_population)"
   ]
  },
  {
   "cell_type": "markdown",
   "metadata": {},
   "source": [
    "# Genetic Algorithm"
   ]
  },
  {
   "cell_type": "code",
   "execution_count": null,
   "metadata": {},
   "outputs": [
    {
     "name": "stdout",
     "output_type": "stream",
     "text": [
      "----------------Generation :  0  ------------------\n",
      "      Max_Cn  Sequence_No\n",
      "0  33.806837            3\n",
      "1  34.292439            2\n",
      "2  35.868863            0\n",
      "3  36.949302            5\n",
      "4  37.925802            9\n",
      "5  38.131119           11\n",
      "Initial =  1\n",
      "----------------Generation :  1  ------------------\n",
      "      Max_Cn  Sequence_No\n",
      "0  33.459952            6\n",
      "1  33.806837            0\n",
      "2  34.108963            7\n",
      "3  34.292439            1\n",
      "4  34.292439            8\n",
      "5  34.314365            9\n",
      "Initial =  2\n",
      "Final Initial =  2\n",
      "---------------Final Generation Noise level --------------\n",
      "      Max_Cn  Sequence_No\n",
      "0  33.459952            0\n",
      "1  33.478282            6\n",
      "2  33.806837            1\n",
      "3  33.840806            7\n",
      "4  33.840806            8\n",
      "5  33.941519            9\n",
      "---------------Final Optimized Sequence --------------\n",
      "     0     1     2     3     4     5     6     7     8     9   ...    62  \\\n",
      "0  43.0  45.0  48.3  43.0  43.0  48.3  48.3  43.0  43.0  43.0  ...  48.3   \n",
      "6  43.0  48.3  48.3  48.3  43.0  45.0  48.3  45.0  43.0  45.0  ...  48.3   \n",
      "\n",
      "     63    64    65    66    67    68    69    70    71  \n",
      "0  45.0  45.0  43.0  45.0  48.3  48.3  45.0  48.3  45.0  \n",
      "6  48.3  45.0  48.3  48.3  43.0  45.0  48.3  45.0  45.0  \n",
      "\n",
      "[2 rows x 72 columns]\n"
     ]
    }
   ],
   "source": [
    "def GA():\n",
    "    from IPython.core.interactiveshell import InteractiveShell\n",
    "\n",
    "    InteractiveShell.ast_node_interactivity = \"all\"\n",
    "\n",
    "    Initials = 0\n",
    "    Num_generation = 3\n",
    "    for generation in range(Num_generation):\n",
    "        if Initials == 0:\n",
    "            print(\"----------------Generation : \", Initials , \" ------------------\")\n",
    "            # Producing initial population ----------------------------------------------------------\n",
    "            New_Population = initial_population(Arranged)  \n",
    "            DF_New_population = pd.DataFrame(New_Population)\n",
    "\n",
    "            # Objective function---------------------------------------------------------------------\n",
    "            Result = objective_function(New_Population, int(len(New_Population)), Total_no_of_pitches)\n",
    "            DF_Result = pd.DataFrame(Result)\n",
    "\n",
    "            # Selection: Initial---------------------------------------------------------------------\n",
    "            Selected_ID = selection(Result, New_Population)\n",
    "            DF_Selected_ID = pd.DataFrame(Selected_ID, columns = ['Max_Cn', \"Sequence_No\"])\n",
    "            print(DF_Selected_ID)\n",
    "            # Selected 'initial' population pitches--------------------------------------------------\n",
    "            Selected_initial_population = DF_New_population.iloc[DF_Selected_ID['Sequence_No']]\n",
    "            #print(Selected_initial_population)\n",
    "            Select_population_arr = Selected_initial_population.to_numpy()\n",
    "\n",
    "            # Variation: Crossover-------------------------------------------------------------------\n",
    "            Cross_off_spring = crossover(Selected_ID, Select_population_arr, Total_no_of_pitches, Tire_Circumferenece)\n",
    "            DF_Cross_off_spring = pd.DataFrame(Cross_off_spring)\n",
    "            DF_Cross_off_spring.drop_duplicates(keep= 'first', ignore_index = True)\n",
    "            DF_Cross_off_arr = DF_Cross_off_spring.to_numpy()\n",
    "            # Variation: Mutation--------------------------------------------------------------------\n",
    "            Mutate_off_spring = mutation(DF_Cross_off_arr, Total_no_of_pitches)\n",
    "            DF_Mutate_off_spring = pd.DataFrame(Mutate_off_spring)\n",
    "            DF_Mutate_off_spring.drop_duplicates(keep= 'first', ignore_index = True)\n",
    "            DF_Mutate_arr = DF_Mutate_off_spring.to_numpy()\n",
    "\n",
    "\n",
    "            # Objective function : After variation---------------------------------------------------\n",
    "            Var_Result = objective_function(DF_Mutate_arr, int(len(DF_Mutate_arr)), Total_no_of_pitches)\n",
    "            DF_Var_Result = pd.DataFrame(Var_Result)\n",
    "\n",
    "            # Selection : After variation------------------------------------------------------------\n",
    "            Selected_VarID = selection(Var_Result, DF_Mutate_arr)\n",
    "            DF_Selected_VarID = pd.DataFrame(Selected_VarID, columns = ['Max_Cn', \"Sequence_No\"])\n",
    "\n",
    "            # Selected 'after variation' population pitches-------------------------------------------\n",
    "            Selected_after_variation_population = DF_Mutate_off_spring.iloc[DF_Selected_VarID['Sequence_No']]\n",
    "            Select_variation_arr = Selected_after_variation_population.to_numpy()\n",
    "            #-----------------------------------------------------------------------------------------\n",
    "            #--************************************************************************************--#\n",
    "            #-----------------------------------------------------------------------------------------\n",
    "            Initial_population = pd.concat([Selected_initial_population, Selected_after_variation_population], ignore_index=True)\n",
    "            Initial_population_array = Initial_population.to_numpy()\n",
    "            Initials = Initials+1\n",
    "            print(\"Initial = \",Initials)\n",
    "            #-----------------------------------------------------------------------------------------\n",
    "            #--************************************************************************************--#\n",
    "            #-----------------------------------------------------------------------------------------\n",
    "        elif 0< Initials < Num_generation-1:\n",
    "            print(\"----------------Generation : \", Initials , \" ------------------\")\n",
    "            # Objective function---------------------------------------------------------------------\n",
    "            Result = objective_function(Initial_population_array, int(len(Initial_population_array)), Total_no_of_pitches)\n",
    "            DF_Result = pd.DataFrame(Result)\n",
    "\n",
    "            # Selection: Performing selection---------------------------------------------------------\n",
    "            Selected_ID = selection(Result, Initial_population_array)\n",
    "            DF_Selected_ID = pd.DataFrame(Selected_ID, columns = ['Max_Cn', \"Sequence_No\"])\n",
    "            print(DF_Selected_ID)\n",
    "\n",
    "            # Selected population pitches------------------------------------------------------------\n",
    "            Selected_initial_population = Initial_population.iloc[DF_Selected_ID['Sequence_No']]\n",
    "            #print(Selected_initial_population)\n",
    "            Select_population_arr = Selected_initial_population.to_numpy()\n",
    "\n",
    "            # Variation: Crossover-------------------------------------------------------------------\n",
    "            Cross_off_spring = crossover(Selected_ID, Select_population_arr, Total_no_of_pitches, Tire_Circumferenece)\n",
    "            DF_Cross_off_spring = pd.DataFrame(Cross_off_spring)\n",
    "            DF_Cross_off_spring.drop_duplicates(keep= 'first', ignore_index = True)\n",
    "            DF_Cross_off_arr = DF_Cross_off_spring.to_numpy()\n",
    "            # Variation: Mutation--------------------------------------------------------------------\n",
    "            Mutate_off_spring = mutation(DF_Cross_off_arr, Total_no_of_pitches)\n",
    "            DF_Mutate_off_spring = pd.DataFrame(Mutate_off_spring)\n",
    "            DF_Mutate_off_spring.drop_duplicates(keep= 'first', ignore_index = True)\n",
    "            DF_Mutate_arr = DF_Mutate_off_spring.to_numpy()\n",
    "\n",
    "            # Objective function : After variation---------------------------------------------------\n",
    "            Var_Result = objective_function(DF_Mutate_arr, int(len(DF_Mutate_arr)), Total_no_of_pitches)\n",
    "            DF_Var_Result = pd.DataFrame(Var_Result)\n",
    "\n",
    "            # Selection : After variation------------------------------------------------------------\n",
    "            Selected_VarID = selection(Var_Result, DF_Mutate_arr)\n",
    "            DF_Selected_VarID = pd.DataFrame(Selected_VarID, columns = ['Max_Cn', \"Sequence_No\"])\n",
    "\n",
    "            # Selected 'after variation' population pitches-------------------------------------------\n",
    "            Selected_after_variation_population = DF_Mutate_off_spring.iloc[DF_Selected_VarID['Sequence_No']]\n",
    "            Select_variation_arr = Selected_after_variation_population.to_numpy()\n",
    "            Initial_population = pd.concat([Selected_initial_population, Selected_after_variation_population], ignore_index=True)\n",
    "            Initial_population_array = Initial_population.to_numpy()\n",
    "            Initials = Initials+1\n",
    "            print(\"Initial = \",Initials)\n",
    "\n",
    "        else:\n",
    "            print(\"Final Initial = \",Initials)\n",
    "            # Objective function---------------------------------------------------------------------\n",
    "            Result = objective_function(Initial_population_array, int(len(Initial_population_array)), Total_no_of_pitches)\n",
    "            DF_Result = pd.DataFrame(Result)\n",
    "\n",
    "            # Selection: Performing selection---------------------------------------------------------\n",
    "            Selected_ID = selection(Result, Initial_population_array)\n",
    "            DF_Selected_ID = pd.DataFrame(Selected_ID, columns = ['Max_Cn', \"Sequence_No\"])\n",
    "            print(\"---------------Final Generation Noise level --------------\")\n",
    "            print(DF_Selected_ID)\n",
    "\n",
    "            # Selected population pitches------------------------------------------------------------\n",
    "            print(\"---------------Final Optimized Sequence --------------\")\n",
    "            Selected_initial_population = Initial_population.iloc[DF_Selected_ID['Sequence_No']]\n",
    "            print(Selected_initial_population)\n",
    "    return DF_Selected_ID, Selected_initial_population\n",
    "OUTPUT = GA()"
   ]
  },
  {
   "cell_type": "code",
   "execution_count": null,
   "metadata": {},
   "outputs": [],
   "source": []
  }
 ],
 "metadata": {
  "kernelspec": {
   "display_name": "Python 3.9.6 64-bit",
   "language": "python",
   "name": "python3"
  },
  "language_info": {
   "codemirror_mode": {
    "name": "ipython",
    "version": 3
   },
   "file_extension": ".py",
   "mimetype": "text/x-python",
   "name": "python",
   "nbconvert_exporter": "python",
   "pygments_lexer": "ipython3",
   "version": "3.9.6"
  },
  "orig_nbformat": 4,
  "vscode": {
   "interpreter": {
    "hash": "d550edca44326db1ca635e6efc5dbc88589ceeff4bed7fb27c87987db9f5ac3f"
   }
  }
 },
 "nbformat": 4,
 "nbformat_minor": 2
}
